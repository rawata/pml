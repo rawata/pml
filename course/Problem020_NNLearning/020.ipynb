{
 "cells": [
  {
   "cell_type": "markdown",
   "metadata": {},
   "source": [
    "# 5 Components of Neural Network Learning (Training)\n",
    "\n",
    "1. Training Loop\n",
    "2. Forward\n",
    "3. Cost\n",
    "4. Backward\n",
    "5. Adjust Weights\n",
    "\n",
    "<img src=\"../../img/nn_training_loop.png\" alt=\"drawing\" width=\"400\"/>\n"
   ]
  },
  {
   "source": [
    "### 1. Training Loop\n",
    "### Epochs and Batch Size\n",
    "\n",
    "### TBD: We are training on a dataset of 506 houses, with batch size of 10 and for 20 epochs, How many times weight update will happen?"
   ],
   "cell_type": "markdown",
   "metadata": {}
  },
  {
   "source": [
    "## 2. Forward\n",
    "###  ...=>  weighted_sum activation weighted_sum activation ...=>"
   ],
   "cell_type": "markdown",
   "metadata": {}
  },
  {
   "source": [
    "## 3. Cost\n",
    "\n",
    "- Mean Squared Error for regression problems\n",
    "\n",
    "$ J = \\frac{1}{2N} \\sum \\limits_{i = 0}^{N} (y - \\hat{y})^2$\n",
    "\n",
    "\n",
    "- Categorical Cross Entropy Error for classification problems\n",
    "\n",
    "$ \n",
    "J = - \\frac{1}{N} \\sum\\limits_{i = 0}^{N} \\large{(} \\small y^{(i)}\\log\\left(\\hat{y}^{(i)}\\right) + (1-y^{(i)})\\log\\left(1- \\hat{y}^{(i)}\\right) \\large{)} \\small\n",
    "$\n"
   ],
   "cell_type": "markdown",
   "metadata": {}
  },
  {
   "source": [
    "# 4. Backward\n",
    "\n",
    "<img src=\"../../img/nn_backward.png\" alt=\"drawing\" width=\"400\"/>\n"
   ],
   "cell_type": "markdown",
   "metadata": {}
  },
  {
   "source": [
    "# 5. Adjust Weights"
   ],
   "cell_type": "markdown",
   "metadata": {}
  },
  {
   "cell_type": "code",
   "execution_count": null,
   "metadata": {},
   "outputs": [],
   "source": []
  }
 ],
 "metadata": {
  "kernelspec": {
   "display_name": "Python 3",
   "language": "python",
   "name": "python3"
  },
  "language_info": {
   "codemirror_mode": {
    "name": "ipython",
    "version": 3
   },
   "file_extension": ".py",
   "mimetype": "text/x-python",
   "name": "python",
   "nbconvert_exporter": "python",
   "pygments_lexer": "ipython3",
   "version": "3.6.5"
  }
 },
 "nbformat": 4,
 "nbformat_minor": 2
}