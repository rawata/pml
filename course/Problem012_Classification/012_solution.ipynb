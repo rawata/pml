{
 "cells": [
  {
   "source": [
    "# Credit Approval Yes/No\n",
    "\n"
   ],
   "cell_type": "markdown",
   "metadata": {
    "scrolled": true
   }
  },
  {
   "cell_type": "code",
   "execution_count": 29,
   "metadata": {},
   "outputs": [],
   "source": [
    " from sklearn.datasets import fetch_openml\n",
    " #Load credit dataset\n",
    " data = fetch_openml(\"credit-g\")"
   ]
  },
  {
   "cell_type": "code",
   "execution_count": 30,
   "metadata": {},
   "outputs": [
    {
     "output_type": "stream",
     "name": "stdout",
     "text": [
      "Raw labels. label0: good, label1: bad\nEncoded labels. label0: 1, label1: 0\n"
     ]
    }
   ],
   "source": [
    "#TBD Split into Train and Test dataset. random 75% 25%\n",
    "from sklearn.model_selection import train_test_split\n",
    "from sklearn.preprocessing import LabelEncoder\n",
    "\n",
    "#Solution\n",
    "\n",
    "X = data[\"data\"]\n",
    "Y_raw = data[\"target\"]\n",
    "\n",
    "#Labels are string, need to encode them to numbers\n",
    "print(f\"Raw labels. label0: {Y_raw[0]}, label1: {Y_raw[1]}\")\n",
    "label_encoder = LabelEncoder()\n",
    "\n",
    "Y = label_encoder.fit_transform(Y_raw)\n",
    "\n",
    "print(f\"Encoded labels. label0: {Y[0]}, label1: {Y[1]}\")\n",
    "\n",
    "X_train, X_test, Y_train, Y_test = train_test_split(X, Y, test_size=0.25, random_state=101)\n"
   ]
  },
  {
   "cell_type": "code",
   "execution_count": 31,
   "metadata": {},
   "outputs": [
    {
     "output_type": "execute_result",
     "data": {
      "text/plain": [
       "LogisticRegression()"
      ]
     },
     "metadata": {},
     "execution_count": 31
    }
   ],
   "source": [
    "#TBD Fit logistic regression model on Training data\n",
    "from sklearn.linear_model.logistic import LogisticRegression\n",
    "\n",
    "#Solution\n",
    "model = LogisticRegression()\n",
    "model.fit(X_train, Y_train)\n"
   ]
  },
  {
   "cell_type": "code",
   "execution_count": 32,
   "metadata": {},
   "outputs": [],
   "source": [
    "#TBD Predict for Test data\n",
    "\n",
    "#Solution\n",
    "Y_hat = model.predict(X_test)\n"
   ]
  },
  {
   "cell_type": "code",
   "execution_count": 33,
   "metadata": {},
   "outputs": [],
   "source": [
    "#TBD Categorical cross entropy error (log loss) for your predictions\n",
    "\n",
    "#Solution\n",
    "from sklearn.metrics import log_loss\n",
    "J = log_loss(Y_test, Y_hat)\n"
   ]
  },
  {
   "cell_type": "code",
   "execution_count": 34,
   "metadata": {},
   "outputs": [
    {
     "output_type": "stream",
     "name": "stdout",
     "text": [
      "Prediction0: good\n"
     ]
    }
   ],
   "source": [
    "#TBD Predict concrete class (instread of probablity score) for test data\n",
    "\n",
    "#Solution, Y_hat is actually the concrete class, because we used predict method,\n",
    "# If we have used model.predict_proba, then those would give probability score\n",
    "# However we still have encoded class names 1 or 0 instead of 'good' or 'bad'\n",
    "# We can inverse transform it\n",
    "\n",
    "Y_hat_raw = label_encoder.inverse_transform(Y_hat)\n",
    "print(f\"Prediction0: {Y_hat_raw[0]}\")\n"
   ]
  },
  {
   "cell_type": "code",
   "execution_count": 35,
   "metadata": {},
   "outputs": [
    {
     "output_type": "stream",
     "name": "stdout",
     "text": [
      "accuracy=73.6%\n"
     ]
    }
   ],
   "source": [
    "#TBD Determine accuracy score for concrete predictions\n",
    "\n",
    "#Solution\n",
    "from sklearn.metrics import accuracy_score\n",
    "\n",
    "accuracy = accuracy_score(Y_test, Y_hat)\n",
    "print(f\"accuracy={accuracy*100}%\")\n"
   ]
  },
  {
   "cell_type": "code",
   "execution_count": null,
   "metadata": {},
   "outputs": [],
   "source": []
  }
 ],
 "metadata": {
  "kernelspec": {
   "name": "python3",
   "display_name": "Python 3.8.2 64-bit ('pml': venv)",
   "metadata": {
    "interpreter": {
     "hash": "a4c9474aacc61cf72d0f1c29f4a339e5d6b2171c287541cfd684cf058783219b"
    }
   }
  },
  "language_info": {
   "codemirror_mode": {
    "name": "ipython",
    "version": 3
   },
   "file_extension": ".py",
   "mimetype": "text/x-python",
   "name": "python",
   "nbconvert_exporter": "python",
   "pygments_lexer": "ipython3",
   "version": "3.8.2-final"
  }
 },
 "nbformat": 4,
 "nbformat_minor": 2
}