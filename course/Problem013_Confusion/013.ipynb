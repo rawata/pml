{
 "cells": [
  {
   "source": [
    "# How to evaluate following systems?\n",
    "\n",
    "## Credit Approval (Yes/No)\n",
    "## Covid detection (Positive/Negative)\n",
    "## Court guilty judgement (Guilty/Not Guilty)\n",
    "## Spam detection (Spam/Ham)\n",
    "## Anomaly detection (Anomaly/Normal)\n"
   ],
   "cell_type": "markdown",
   "metadata": {
    "scrolled": true
   }
  },
  {
   "cell_type": "code",
   "execution_count": 2,
   "metadata": {},
   "outputs": [],
   "source": [
    "# Some classification process under study generated following labels \n",
    "Y =  [1, 0, 0, 0, 0, 0, 0, 0, 0, 0]\n",
    "\n",
    "# 2 classification models trying to approximate above process produced following end predictions\n",
    "Y_hat1 = [0, 0, 0, 0, 0, 0, 0, 0, 0, 0]\n",
    "Y_hat2 = [1, 0, 0, 1, 1, 0, 0, 0, 0, 0]\n",
    "\n",
    "#TBD Which is the better model"
   ]
  },
  {
   "cell_type": "code",
   "execution_count": 1,
   "metadata": {},
   "outputs": [],
   "source": [
    "# TBD: Compute accuracy of the models"
   ]
  },
  {
   "cell_type": "code",
   "execution_count": 2,
   "metadata": {},
   "outputs": [],
   "source": [
    "# TBD: Compute confusion matrix for the models"
   ]
  },
  {
   "cell_type": "code",
   "execution_count": 3,
   "metadata": {},
   "outputs": [],
   "source": [
    "# TBD: Compute precision, recall and f1 score for the models"
   ]
  },
  {
   "cell_type": "code",
   "execution_count": null,
   "metadata": {},
   "outputs": [],
   "source": []
  }
 ],
 "metadata": {
  "kernelspec": {
   "name": "Python 3.8.2 64-bit ('pml')",
   "display_name": "Python 3.8.2 64-bit ('pml')",
   "metadata": {
    "interpreter": {
     "hash": "a4c9474aacc61cf72d0f1c29f4a339e5d6b2171c287541cfd684cf058783219b"
    }
   }
  },
  "language_info": {
   "codemirror_mode": {
    "name": "ipython",
    "version": 3
   },
   "file_extension": ".py",
   "mimetype": "text/x-python",
   "name": "python",
   "nbconvert_exporter": "python",
   "pygments_lexer": "ipython3",
   "version": "3.8.2-final"
  }
 },
 "nbformat": 4,
 "nbformat_minor": 2
}