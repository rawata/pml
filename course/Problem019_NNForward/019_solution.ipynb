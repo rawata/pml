{
 "cells": [
  {
   "source": [
    "## Neural Network\n",
    "\n",
    "<img src=\"../../img/nn016.png\" width=\"900\">\n",
    "\n",
    "## TBD: For the given neural network above: \n",
    "* Produce a random weight matrix for Layer 1. (Just give proper shape)\n",
    "* For a first batch of inputs, produce activations from layer 1. (batch_size = 5) \n",
    "\n"
   ],
   "cell_type": "markdown",
   "metadata": {}
  },
  {
   "cell_type": "code",
   "execution_count": 33,
   "metadata": {},
   "outputs": [
    {
     "output_type": "stream",
     "name": "stdout",
     "text": [
      "(2, 3)\n(5, 3)\n"
     ]
    }
   ],
   "source": [
    "#Solution\n",
    "#    Shape of weight matrix for layer one. \n",
    "#       Weights of each neuron are arranged in a column \n",
    "#           so number of columns = number of neurons (3)\n",
    "#       Number of rows = number of features of previous layer (2)\n",
    "#.    hence Shape is (2 X 3)\n",
    "\n",
    "import numpy as np\n",
    "\n",
    "#Generate random data of given shape\n",
    "weight_matrix = np.random.randn(2,3)\n",
    "print(weight_matrix.shape)\n",
    "# print(weight_matrix)\n",
    "\n",
    "#First batch\n",
    "X = np.array([\n",
    "    [0, 0],\n",
    "    [1, 0],\n",
    "    [0, 1],\n",
    "    [1, 1],\n",
    "    [2, 0]\n",
    "])\n",
    "\n",
    "# Activations produced from layer1 for first batch of inputs\n",
    "z = np.matmul(X, weight_matrix) #Weighted sum\n",
    "#Assuming relu activation function\n",
    "def relu(x):\n",
    "    return np.maximum(0,x)\n",
    "\n",
    "a = relu(z) #Activations\n",
    "print(a.shape) \n",
    "# print(a)\n"
   ]
  },
  {
   "source": [
    "## MNIST Again (from keras)\n",
    "Below we initilize a 3 layer Neural network with 64, 64, 10 nodes each, using keras library.\n",
    "Dont worry about training yet, just work out the shapes of weight matrices in the Neural Net.\n"
   ],
   "cell_type": "markdown",
   "metadata": {}
  },
  {
   "cell_type": "code",
   "execution_count": 34,
   "metadata": {},
   "outputs": [
    {
     "output_type": "stream",
     "name": "stdout",
     "text": [
      "(784, 64)\n(64, 64)\n(64, 10)\n"
     ]
    }
   ],
   "source": [
    "# Imports\n",
    "import numpy as np\n",
    "from keras.datasets import mnist\n",
    "from keras.models import Sequential\n",
    "from keras.layers.core import Dense, Activation\n",
    "from keras.optimizers import SGD\n",
    "from keras.utils import np_utils\n",
    "\n",
    "(X_train, Y_train), (X_test, Y_test) = mnist.load_data()\n",
    "# print(X_train.shape)\n",
    "# print(Y_train.shape)\n",
    "# print(X_test.shape)\n",
    "\n",
    "# Reshape as feature vectors instead of 28X28 images\n",
    "X_train = X_train.reshape(60000, 28*28).astype('float32')\n",
    "X_test = X_test.reshape(10000, 28*28).astype('float32')\n",
    "\n",
    "# Encode Y as binary class vector\n",
    "Y_train = np_utils.to_categorical(Y_train, 10)\n",
    "Y_test = np_utils.to_categorical(Y_test, 10)\n",
    "\n",
    "# print(X_train.shape)\n",
    "# print(Y_train.shape)\n",
    "\n",
    "# Build a neural network\n",
    "model = Sequential()\n",
    "model.add(Dense(64, activation='relu', input_shape=(60000, 784)))\n",
    "model.add(Dense(64, activation='relu'))\n",
    "model.add(Dense(10, activation='softmax'))\n",
    "\n",
    "\n",
    "# Shape of weight matrices\n",
    "\n",
    "# Solution:\n",
    "# Shape of weight matrix = num_features X num_neurons\n",
    "# Shape of weight matrix for layer 1 =  784 X 64\n",
    "# Shape of weight matrix for layer 2 =  64 X 64\n",
    "# Shape of weight matrix for layer 3 =  64 X 10\n",
    "\n",
    "# Verifying the shape\n",
    "# model.layers is a list of layers. Layer1 = model.layers[0], Layer2 = model.layers[1] and so on.\n",
    "# layer.get_weights() returns a list of 2 elements, first is weights and second is biases, for now we are just interested in weights.\n",
    "\n",
    "shape1 = model.layers[0].get_weights()[0].shape\n",
    "print(shape1)\n",
    "shape2 = model.layers[1].get_weights()[0].shape\n",
    "print(shape2)\n",
    "shape3 = model.layers[2].get_weights()[0].shape\n",
    "print(shape3)"
   ]
  },
  {
   "cell_type": "code",
   "execution_count": null,
   "metadata": {},
   "outputs": [],
   "source": []
  }
 ],
 "metadata": {
  "kernelspec": {
   "name": "python3",
   "display_name": "Python 3.8.2 64-bit ('pml': venv)",
   "metadata": {
    "interpreter": {
     "hash": "a4c9474aacc61cf72d0f1c29f4a339e5d6b2171c287541cfd684cf058783219b"
    }
   }
  },
  "language_info": {
   "codemirror_mode": {
    "name": "ipython",
    "version": 3
   },
   "file_extension": ".py",
   "mimetype": "text/x-python",
   "name": "python",
   "nbconvert_exporter": "python",
   "pygments_lexer": "ipython3",
   "version": "3.8.2-final"
  }
 },
 "nbformat": 4,
 "nbformat_minor": 2
}