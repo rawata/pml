{
 "cells": [
  {
   "source": [
    "## Artificial Neuron in context\n",
    "\n",
    "* Linear Regression: Weighted Sum of inputs\n",
    "* Logistic Regression: Logistic Function(sigmoid) applied on Weighted Sum of inputs\n",
    "* Artificial Neuron: Non Linear Function (ReLU, tanh, sigmoid) applied on Weighted Sum of inputs\n",
    "\n",
    "\n",
    "\n"
   ],
   "cell_type": "markdown",
   "metadata": {}
  }
 ],
 "metadata": {
  "kernelspec": {
   "name": "Python 3.8.2 64-bit ('pml')",
   "display_name": "Python 3.8.2 64-bit ('pml')",
   "metadata": {
    "interpreter": {
     "hash": "a4c9474aacc61cf72d0f1c29f4a339e5d6b2171c287541cfd684cf058783219b"
    }
   }
  },
  "language_info": {
   "codemirror_mode": {
    "name": "ipython",
    "version": 3
   },
   "file_extension": ".py",
   "mimetype": "text/x-python",
   "name": "python",
   "nbconvert_exporter": "python",
   "pygments_lexer": "ipython3",
   "version": "3.8.2-final"
  }
 },
 "nbformat": 4,
 "nbformat_minor": 2
}