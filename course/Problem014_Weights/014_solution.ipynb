{
 "cells": [
  {
   "source": [
    "## Weights or Coeffecients or Theta or Strength of Connection etc"
   ],
   "cell_type": "markdown",
   "metadata": {
    "scrolled": true
   }
  },
  {
   "cell_type": "code",
   "execution_count": 8,
   "metadata": {},
   "outputs": [],
   "source": [
    "#TBD Load boston dataset\n",
    "from sklearn.datasets import load_boston\n",
    "from sklearn.model_selection import train_test_split\n",
    "from sklearn.linear_model import LinearRegression\n",
    "\n",
    "house_data = load_boston()\n",
    "\n",
    "X = house_data['data']\n",
    "Y = house_data['target']\n",
    "#TBD Split into Train and Test dataset. random 90% 10%\n",
    "\n",
    "#Solution\n",
    "X_train, X_test, Y_train, Y_test = train_test_split(X, Y, test_size=0.1, random_state=101)\n",
    "\n",
    "#TBD Fit linear model on Training data\n",
    "\n",
    "#Solution\n",
    "model = LinearRegression()\n",
    "model.fit(X_train, Y_train)\n",
    "\n",
    "#TBD From the model get the weights\n",
    "\n",
    "#Solution\n",
    "# weights also called as coeffecients\n",
    "weights = model.coef_\n"
   ]
  },
  {
   "source": [
    "## A special weight:  Bias or Intercept"
   ],
   "cell_type": "markdown",
   "metadata": {}
  },
  {
   "cell_type": "code",
   "execution_count": 9,
   "metadata": {},
   "outputs": [],
   "source": [
    "# TBD: From above model get the Bias term\n",
    "\n",
    "#Solution \n",
    "# bias also called as intercept\n",
    "bias = model.intercept_"
   ]
  },
  {
   "source": [
    "# TBD: Using weights and bias to simulate above model predict for training data Y_hat1\n",
    "\n",
    "#Solution\n",
    "\n",
    "import numpy as np\n",
    "from sklearn.metrics import mean_squared_error\n",
    "\n",
    "Y_hat_simulated = np.dot(X_test, weights) + bias\n",
    "\n",
    "# TBD: Using model.predict predict for training data Y_hat2\n",
    "Y_hat = model.predict(X_test)\n",
    "\n",
    "# TBD: Mean squared error for Y_hat1, Y_hat2 (They must be very close, nearly equal)\n",
    "\n",
    "mse = mean_squared_error(Y_hat, Y_hat_simulated)\n",
    "print(mse)\n",
    "\n",
    "#model.predict is doing a weighted sum of inputs\n"
   ],
   "cell_type": "code",
   "metadata": {},
   "execution_count": 15,
   "outputs": [
    {
     "output_type": "stream",
     "name": "stdout",
     "text": [
      "0.0\n"
     ]
    }
   ]
  },
  {
   "cell_type": "code",
   "execution_count": null,
   "metadata": {},
   "outputs": [],
   "source": []
  }
 ],
 "metadata": {
  "kernelspec": {
   "name": "python3",
   "display_name": "Python 3.8.2 64-bit ('pml': venv)",
   "metadata": {
    "interpreter": {
     "hash": "a4c9474aacc61cf72d0f1c29f4a339e5d6b2171c287541cfd684cf058783219b"
    }
   }
  },
  "language_info": {
   "codemirror_mode": {
    "name": "ipython",
    "version": 3
   },
   "file_extension": ".py",
   "mimetype": "text/x-python",
   "name": "python",
   "nbconvert_exporter": "python",
   "pygments_lexer": "ipython3",
   "version": "3.8.2-final"
  }
 },
 "nbformat": 4,
 "nbformat_minor": 2
}