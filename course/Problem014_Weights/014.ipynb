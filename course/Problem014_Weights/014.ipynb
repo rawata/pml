{
 "cells": [
  {
   "source": [
    "## Weights or Coeffecients or Strength of Connection etc"
   ],
   "cell_type": "markdown",
   "metadata": {
    "scrolled": true
   }
  },
  {
   "cell_type": "code",
   "execution_count": 2,
   "metadata": {},
   "outputs": [],
   "source": [
    "#TBD Load boston dataset\n",
    "#TBD Split into Train and Test dataset. random 90% 10%\n",
    "#TBD Fit linear model on Training data\n",
    "#TBD From the model get the weights\n"
   ]
  },
  {
   "source": [
    "## A special weight:  Bias or Intercept"
   ],
   "cell_type": "markdown",
   "metadata": {}
  },
  {
   "cell_type": "code",
   "execution_count": 1,
   "metadata": {},
   "outputs": [],
   "source": [
    "# TBD: From above model get the Bias term"
   ]
  },
  {
   "source": [
    "# TBD: Using weights and bias to simulate above model predict for training data Y_hat1\n",
    "# TBD: Using model.predict predict for training data Y_hat2\n",
    "# TBD: Mean squared error for Y_hat1, Y_hat2 (They must be very close, nearly equal)\n"
   ],
   "cell_type": "code",
   "metadata": {},
   "execution_count": null,
   "outputs": []
  }
 ],
 "metadata": {
  "kernelspec": {
   "name": "Python 3.8.2 64-bit ('pml')",
   "display_name": "Python 3.8.2 64-bit ('pml')",
   "metadata": {
    "interpreter": {
     "hash": "a4c9474aacc61cf72d0f1c29f4a339e5d6b2171c287541cfd684cf058783219b"
    }
   }
  },
  "language_info": {
   "codemirror_mode": {
    "name": "ipython",
    "version": 3
   },
   "file_extension": ".py",
   "mimetype": "text/x-python",
   "name": "python",
   "nbconvert_exporter": "python",
   "pygments_lexer": "ipython3",
   "version": "3.8.2-final"
  }
 },
 "nbformat": 4,
 "nbformat_minor": 2
}