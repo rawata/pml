{
  "nbformat": 4,
  "nbformat_minor": 0,
  "metadata": {
    "kernelspec": {
      "name": "Python 3.8.2 64-bit ('pml')",
      "display_name": "Python 3.8.2 64-bit ('pml')",
      "metadata": {
        "interpreter": {
          "hash": "a4c9474aacc61cf72d0f1c29f4a339e5d6b2171c287541cfd684cf058783219b"
        }
      }
    },
    "language_info": {
      "codemirror_mode": {
        "name": "ipython",
        "version": 3
      },
      "file_extension": ".py",
      "mimetype": "text/x-python",
      "name": "python",
      "nbconvert_exporter": "python",
      "pygments_lexer": "ipython3",
      "version": "3.8.2-final"
    },
    "colab": {
      "name": "014.ipynb",
      "provenance": []
    }
  },
  "cells": [
    {
      "cell_type": "markdown",
      "metadata": {
        "scrolled": true,
        "id": "n4xSXLYs-zDl"
      },
      "source": [
        "## Weights or Coeffecients or Theta or Strength of Connection etc"
      ]
    },
    {
      "cell_type": "code",
      "metadata": {
        "id": "vs-klc3P-zDo",
        "outputId": "ed776736-bfcc-4b4e-8dc4-06c7b82eaecd",
        "colab": {
          "base_uri": "https://localhost:8080/"
        }
      },
      "source": [
        "#TBD Load boston dataset\n",
        "#TBD Split into Train and Test dataset. random 90% 10%\n",
        "#TBD Fit linear model on Training data\n",
        "#TBD From the model get the weights\n",
        "from sklearn.datasets import load_boston\n",
        "from sklearn.model_selection import train_test_split\n",
        "from sklearn import linear_model\n",
        "\n",
        "X, Y = load_boston(return_X_y=True)\n",
        "X_train, X_test, y_train, y_test = train_test_split(X, Y, train_size = 0.9)\n",
        "reg = linear_model.LinearRegression().fit(X_train, y_train)\n",
        "reg.predict(X_test)\n",
        "print(reg.coef_)\n",
        "print(reg.intercept_)\n"
      ],
      "execution_count": 9,
      "outputs": [
        {
          "output_type": "stream",
          "text": [
            "[-7.70271024e-02  4.30241516e-02  2.37372970e-02  2.51900506e+00\n",
            " -1.63731209e+01  4.05950395e+00 -5.77856631e-03 -1.37688221e+00\n",
            "  2.90955226e-01 -1.34401015e-02 -9.42813017e-01  8.88950633e-03\n",
            " -4.93583459e-01]\n",
            "34.1861458109347\n"
          ],
          "name": "stdout"
        }
      ]
    },
    {
      "cell_type": "markdown",
      "metadata": {
        "id": "-eu3MSl5-zD4"
      },
      "source": [
        "## A special weight:  Bias or Intercept"
      ]
    },
    {
      "cell_type": "code",
      "metadata": {
        "id": "iuRZFCrF-zD5"
      },
      "source": [
        "# TBD: From above model get the Bias term"
      ],
      "execution_count": null,
      "outputs": []
    },
    {
      "cell_type": "code",
      "metadata": {
        "id": "gOK4usUn-zEC"
      },
      "source": [
        "# TBD: Using weights and bias to simulate above model predict for training data Y_hat1\n",
        "# TBD: Using model.predict predict for training data Y_hat2\n",
        "# TBD: Mean squared error for Y_hat1, Y_hat2 (They must be very close, nearly equal)\n"
      ],
      "execution_count": null,
      "outputs": []
    }
  ]
}