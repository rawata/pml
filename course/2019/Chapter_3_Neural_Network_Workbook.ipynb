{
 "cells": [
  {
   "cell_type": "markdown",
   "metadata": {},
   "source": [
    "# 5 Components of Neural Network Training\n",
    "\n",
    "1. Training Loop\n",
    "2. Forward\n",
    "3. Cost\n",
    "4. Backward\n",
    "5. Adjust Weights\n",
    "\n",
    "<img src=\"../../img/nn_training_loop.png\" alt=\"drawing\" width=\"400\"/>\n"
   ]
  },
  {
   "cell_type": "markdown",
   "metadata": {},
   "source": [
    "# 1. Training Loop\n",
    "### Epochs and Batch Size\n",
    "\n",
    "**Problem 1**: We are training on a dataset of 506 houses, with batch size of 10 and for 20 epochs, How many times weight update will happen?"
   ]
  },
  {
   "cell_type": "markdown",
   "metadata": {},
   "source": [
    "# 2. Forward\n",
    "\n",
    "<img src=\"../../img/nn_forward3.png\" alt=\"drawing\" width=\"700\"/>\n",
    "\n",
    "**Problem 1**: For the given single neuron setup in fig 2a, predict the output for the first input batch of size 4.\n",
    "\n",
    "**Problem 2**: For the given 2 matrices A and B, \n",
    "\n",
    "**A**\n",
    "\n",
    "$\\begin{bmatrix}1 & -2 \\\\2 & -1 \\\\3 & -3\\end{bmatrix}$\n",
    "\n",
    "\n",
    "**B**\n",
    "\n",
    "$\\begin{bmatrix}1 & 1 & 2 & 2\\\\2 & 3 & 1 & 3\\end{bmatrix}$\n",
    "\n",
    "\n",
    "    - Compute A X B (Matrix multiplication)\n",
    "    - Compute elementwise Sigmoid on the output of above multiplication\n",
    "\n",
    "**Problem 3**: For the given neural network in fig 2b, \n",
    "\n",
    "    - How many weights are there in first hidden layer?\n",
    "    - How many weights are there in total?\n",
    "    - Compute the activation from the first hidden layer of the network for the first input batch of size 4?\n",
    "    - How many activations are produced from first hidden layer for single input sample?\n",
    "    \n",
    "\n"
   ]
  },
  {
   "cell_type": "markdown",
   "metadata": {},
   "source": [
    "# 3. Cost\n",
    "\n",
    "- Mean Squared Error for regression problems\n",
    "\n",
    "$$ J = \\frac{1}{2N} \\sum \\limits_{i = 0}^{N} (y - \\hat{y})^2$$\n",
    "\n",
    "\n",
    "- Categorical Cross Entropy Error for classification problems\n",
    "\n",
    "$\\begin{align} J = - \\frac{1}{N} \\sum\\limits_{i = 0}^{N} \\large{(} \\small y^{(i)}\\log\\left(\\hat{y}^{(i)}\\right) + (1-y^{(i)})\\log\\left(1- \\hat{y}^{(i)}\\right) \\large{)} \\small\\tag{13}\\end{align}$\n",
    "\n",
    "** Problem 1 ** : For the single neuron setup like above compute the Mean Squared Error (MSE) cost for the first batch of size 3 given the following training data. And Weights as \n",
    "w1 = -0.2, w2 = 0.5\n",
    "\n",
    "| x1| x2| y  |\n",
    "|---|---|----|\n",
    "| 20| 16 | 5 |\n",
    "| 40| 20 | 3 |\n",
    "| 10| 6  | 4 |\n",
    "| 20| 12 | 4 |\n",
    "\n",
    "\n",
    "** Problem 2 ** : For the following values of Y and Y_hat for a classification problem, Compute Categorical Cross entropy error\n",
    "\n",
    "| y | y_hat| \n",
    "|---|------|\n",
    "| 1| 0.96  |\n",
    "| 0| 0.003 |\n",
    "| 0| 0.8   | \n",
    "| 1| 0.88  |"
   ]
  },
  {
   "cell_type": "markdown",
   "metadata": {},
   "source": [
    "# 4. Backward\n",
    "\n",
    "<img src=\"../../img/nn_backward.png\" alt=\"drawing\" width=\"400\"/>\n"
   ]
  },
  {
   "cell_type": "markdown",
   "metadata": {},
   "source": [
    "## Derivative from first principles\n",
    "\n",
    "**Problem 1: ** Compute derivative of following functions from first principles\n",
    "\n",
    "$\\begin{align}y = 5x\\end{align}$\n",
    "\n",
    "$\\begin{align}y = x^2\\end{align}$\n"
   ]
  },
  {
   "cell_type": "markdown",
   "metadata": {},
   "source": [
    "## Simple Derivative Problems\n",
    "** Problem 1**: Find derivatives for following functions\n",
    "\n",
    "$\\begin{align}y = \\sin(x)\\end{align}$\n",
    "\n",
    "$\\begin{align}y = x + 2\\end{align}$\n",
    "\n",
    "$\\begin{align}y = 5\\sin(x)\\end{align}$\n",
    "\n",
    "$\\begin{align}y = 3x \\end{align}$\n",
    "\n",
    "$\\begin{align}y = 5\\sin(x) + x^4 \\end{align}$\n",
    "\n",
    "$\\begin{align}y = 5x^4\\sin(x) \\end{align}$\n",
    "\n",
    "$\\begin{align}y = 2e^x\\log(x) \\end{align}$\n"
   ]
  },
  {
   "cell_type": "markdown",
   "metadata": {},
   "source": [
    "## Derivatives Chain Rule\n",
    "** Problem 1**: Find derivatives for following functions using chain rule\n",
    "\n",
    "$\\begin{align}y = \\log(x^2)\\end{align}$\n",
    "\n",
    "$\\begin{align}y = \\sin^2(x)\\end{align}$\n",
    "\n",
    "$\\begin{align}y = \\sin(x^2)\\end{align}$\n",
    "\n",
    "$\\begin{align}y = e^{5x^2}\\end{align}$\n",
    "\n",
    "$\\begin{align}y = \\frac{1}{1 + e^{-10x + 3}}\\end{align}$\n",
    "\n"
   ]
  },
  {
   "cell_type": "markdown",
   "metadata": {},
   "source": [
    "## Gradient Descent\n",
    "\n",
    "**Problem 1:** Tale of 2 functions: First is *f*, the function we are trying to predict.\n",
    "second is *J*, the cost function. Whats your general observation about *f* and *J* ?\n",
    "\n",
    "**Problem 2:** Simply stated gradient descent means that move in the direction of negative slope in some proportion to the incline of the slope.\n",
    "\n",
    "    - Which of above 2 functions we would do gradient descent?\n",
    "    - What is a learning rate? \n",
    "    \n",
    "**Problem 3:** Given the following cost function J\n",
    "\n",
    "$\\begin{align}J(x) = (x-3)^2\\end{align}$\n",
    "\n",
    "and our current weight is 7, given the learning rate of 0.1\n",
    "\n",
    " - What will be the length of our next stride?\n",
    "\n",
    " - What will be the new weight?"
   ]
  },
  {
   "cell_type": "markdown",
   "metadata": {},
   "source": [
    "### Backpropagation\n",
    "\n",
    "**Problem 1**: What is being back propagated?\n",
    "\n",
    "**Problem 2**: In the following setup \n",
    "     \n",
    "<img src=\"../../img/nn_backprop_simplest1.png\" alt=\"drawing\" width=\"400\"/>\n",
    "\n",
    "     - How many functions are involved?\n",
    "     - How many weights are involved?\n",
    "     - With only one training sample x=3, y=2 and weights w1=0.5, w2=0.8 Whats y_hat?\n",
    "     - Whats the MSE Cost?\n",
    "\n",
    "**Problem 3**: \n",
    "\n",
    "Just expanded the above neural network to show weighted sum and activation components\n",
    "\n",
    "<img src=\"../../img/nn_backprop_simplest_expanded1.png\" alt=\"drawing\" width=\"400\"/>\n",
    "\n",
    "To go backward, compute the following for previously given weights and training sample\n",
    "     \n",
    " $\\begin{align}\\frac{dJ}{d\\hat{y}}\\end{align}$\n",
    " $\\begin{align}\\frac{d\\hat{y}}{dz2}\\end{align}$\n",
    " $\\begin{align}\\frac{dz2}{dw2}\\end{align}$\n",
    " $\\begin{align}\\frac{dz2}{da1}\\end{align}$\n",
    " $\\begin{align}\\frac{da1}{dz1}\\end{align}$\n",
    " $\\begin{align}\\frac{dz1}{dw1}\\end{align}$\n",
    "\n",
    " \n",
    " **Problem 4**: \n",
    " \n",
    " Whole purpose of back propagation or this notebook is to compute \n",
    " _**how cost changes with weights**_ i.e\n",
    " \n",
    " $\\begin{align}\\frac{dJ}{d weights}\\end{align}$\n",
    " \n",
    " \n",
    "What are the values of:\n",
    " \n",
    "a) $\\begin{align}\\frac{dJ}{dw1}\\end{align}$\n",
    "  \n",
    "  \n",
    "b) $\\begin{align}\\frac{dJ}{dw2}\\end{align}$\n",
    "  \n",
    "_(Hint: Use Chain Rule & Problem 3 results)_\n",
    " \n",
    " "
   ]
  },
  {
   "cell_type": "markdown",
   "metadata": {},
   "source": [
    "# 5. Update Weights\n",
    "\n",
    "**Problem 1**: In the above problem after you have computed \n",
    "$\\begin{align}\\frac{dJ}{dw1}\\end{align}$ and\n",
    "$\\begin{align}\\frac{dJ}{dw2}\\end{align}$\n",
    "\n",
    "what are new weights if the learning rate is 0.1\n",
    "\n"
   ]
  },
  {
   "cell_type": "markdown",
   "metadata": {},
   "source": [
    "# Forward Again\n",
    "\n",
    "** Problem 1 **: Plug in those new weights and check if the cost is reduced."
   ]
  }
 ],
 "metadata": {
  "kernelspec": {
   "display_name": "Python 3",
   "language": "python",
   "name": "python3"
  },
  "language_info": {
   "codemirror_mode": {
    "name": "ipython",
    "version": 3
   },
   "file_extension": ".py",
   "mimetype": "text/x-python",
   "name": "python",
   "nbconvert_exporter": "python",
   "pygments_lexer": "ipython3",
   "version": "3.6.5"
  }
 },
 "nbformat": 4,
 "nbformat_minor": 2
}