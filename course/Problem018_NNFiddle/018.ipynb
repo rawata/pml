{
 "cells": [
  {
   "cell_type": "markdown",
   "metadata": {},
   "source": [
    "## Visit [AI Fiddle](https://editor.aifiddle.io/)"
   ]
  },
  {
   "source": [
    "## TBD Load MNIST dataset"
   ],
   "cell_type": "markdown",
   "metadata": {}
  },
  {
   "source": [
    "## TBD Familiarise"
   ],
   "cell_type": "markdown",
   "metadata": {}
  },
  {
   "source": [
    "## TBD Train a neural net of 3 hidden layers with 64, 64 and 10 neurons each\n"
   ],
   "cell_type": "markdown",
   "metadata": {}
  },
  {
   "source": [
    "## TBD Achieve above 80% accuracy, Change your initial architecture if needed"
   ],
   "cell_type": "markdown",
   "metadata": {}
  },
  {
   "source": [
    "## TBD Validate your model with some data samples from the dataset"
   ],
   "cell_type": "markdown",
   "metadata": {}
  },
  {
   "cell_type": "code",
   "execution_count": null,
   "metadata": {},
   "outputs": [],
   "source": []
  }
 ],
 "metadata": {
  "kernelspec": {
   "display_name": "Python 3",
   "language": "python",
   "name": "python3"
  },
  "language_info": {
   "codemirror_mode": {
    "name": "ipython",
    "version": 3
   },
   "file_extension": ".py",
   "mimetype": "text/x-python",
   "name": "python",
   "nbconvert_exporter": "python",
   "pygments_lexer": "ipython3",
   "version": "3.6.5"
  }
 },
 "nbformat": 4,
 "nbformat_minor": 2
}