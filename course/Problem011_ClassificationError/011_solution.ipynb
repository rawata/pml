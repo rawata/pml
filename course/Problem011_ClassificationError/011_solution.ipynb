{
 "cells": [
  {
   "source": [
    "## Categorical cross entropy error\n",
    "\n",
    "$\n",
    "J = - \\frac{1}{N} \\sum\\limits_{i = 0}^{N} \\large{(} \\small y^{(i)}\\log\\left(\\hat{y}^{(i)}\\right) + (1-y^{(i)})\\log\\left(1- \\hat{y}^{(i)}\\right) \\large{)}\n",
    "$"
   ],
   "cell_type": "markdown",
   "metadata": {
    "scrolled": true
   }
  },
  {
   "cell_type": "code",
   "execution_count": 1,
   "metadata": {},
   "outputs": [],
   "source": [
    "import numpy as np\n",
    "Y = np.array([1, 0, 0, 0, 1, 1, 0])\n",
    "\n",
    "# Follwing are the corrosponding Y_hat values from 3 classification models\n",
    "# TBD: Arrange the models from best to worst.\n",
    "Y_hat1 = np.array([0.99, 0.01, 0.01, 0.01, 0.99, 0.99, 0.01])\n",
    "Y_hat2 = np.array([0.01, 0.99, 0.99, 0.99, 0.01, 0.01, 0.99])\n",
    "Y_hat3 = np.array([0.99, 0.01, 0.01, 0.99, 0.99, 0.01, 0.01])\n",
    "Y_hat4 = np.array([0.99, 0.01, 0.01, 0.99, 0.99, 0.01, 0.99])\n",
    "\n",
    "#Solution\n",
    "#This was just meant to be inspected visually (0.99 ~ 1 , and 0.01 ~ 0)\n",
    "#Y_hat1 is closest to Y, (All nearly labelled)\n",
    "#Y_hat2 is worst, its exactly opposite (All mislabeled)\n",
    "#Y_hat3 has 2 mislabels\n",
    "#Y_hat4 has 3 mislabels\n",
    "\n",
    "#Best to Worst (Y_hat1, Y_hat3, Y_hat4, Y_hat2)\n",
    "\n",
    "#Log_loss function below (or Cross Entropy Function) quantifies this\n",
    "#Though looks hairy but has simple iterpretation,\n",
    "#It has very low value when predictions are close to actual labels, \n",
    "# and large value when they are apart. \n",
    "# Mean squared error(MSE) wouldnt help here, because when we are off by just 1, \n",
    "# We are completely Off. MSE would still be very low, but we want it to be high\n",
    "# Log loss does that\n"
   ]
  },
  {
   "cell_type": "code",
   "execution_count": 5,
   "metadata": {},
   "outputs": [
    {
     "output_type": "stream",
     "name": "stdout",
     "text": [
      "J1=0.010050335853501449, J2=4.605170185988091, J3=1.3229417216062413, J4=1.9793874144826111\n"
     ]
    }
   ],
   "source": [
    "#TBD For above Y and Y_hat values compute categorical cross entropy error using sklearn library function\n",
    "\n",
    "#Solution\n",
    "from sklearn.metrics import log_loss\n",
    "J1 = log_loss(Y, Y_hat1)\n",
    "J2 = log_loss(Y, Y_hat2)\n",
    "J3 = log_loss(Y, Y_hat3)\n",
    "J4 = log_loss(Y, Y_hat4)\n",
    "\n",
    "print(f\"J1={J1}, J2={J2}, J3={J3}, J4={J4}\")"
   ]
  },
  {
   "cell_type": "code",
   "execution_count": null,
   "metadata": {},
   "outputs": [],
   "source": []
  }
 ],
 "metadata": {
  "kernelspec": {
   "display_name": "Python 3",
   "language": "python",
   "name": "python3"
  },
  "language_info": {
   "codemirror_mode": {
    "name": "ipython",
    "version": 3
   },
   "file_extension": ".py",
   "mimetype": "text/x-python",
   "name": "python",
   "nbconvert_exporter": "python",
   "pygments_lexer": "ipython3",
   "version": "3.8.2-final"
  }
 },
 "nbformat": 4,
 "nbformat_minor": 2
}