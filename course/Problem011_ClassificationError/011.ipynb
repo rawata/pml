{
 "cells": [
  {
   "source": [
    "## Categorical cross entropy error\n",
    "\n",
    "$\n",
    "J = - \\frac{1}{N} \\sum\\limits_{i = 0}^{N} \\large{(} \\small y^{(i)}\\log\\left(\\hat{y}^{(i)}\\right) + (1-y^{(i)})\\log\\left(1- \\hat{y}^{(i)}\\right) \\large{)}\n",
    "$"
   ],
   "cell_type": "markdown",
   "metadata": {
    "scrolled": true
   }
  },
  {
   "cell_type": "code",
   "execution_count": 4,
   "metadata": {},
   "outputs": [],
   "source": [
    "import numpy as np\n",
    "Y = np.array([1, 0, 0, 0, 1, 1, 0])\n",
    "\n",
    "# Follwing are the corrosponding Y_hat values from 3 classification models\n",
    "# TBD: Arrange the models from best to worst.\n",
    "Y_hat1 = np.array([0.99, 0.01, 0.01, 0.01, 0.99, 0.99, 0.01])\n",
    "Y_hat2 = np.array([0.01, 0.99, 0.99, 0.99, 0.01, 0.01, 0.99])\n",
    "Y_hat3 = np.array([0.99, 0.01, 0.01, 0.99, 0.99, 0.01, 0.01])\n",
    "Y_hat4 = np.array([0.99, 0.01, 0.01, 0.99, 0.99, 0.01, 0.99])\n",
    "\n"
   ]
  },
  {
   "cell_type": "code",
   "execution_count": 11,
   "metadata": {},
   "outputs": [],
   "source": [
    "#TBD For above Y and Y_hat values compute categorical cross entropy error using sklearn library function\n",
    "from sklearn.metrics import log_loss\n"
   ]
  }
 ],
 "metadata": {
  "kernelspec": {
   "display_name": "Python 3",
   "language": "python",
   "name": "python3"
  },
  "language_info": {
   "codemirror_mode": {
    "name": "ipython",
    "version": 3
   },
   "file_extension": ".py",
   "mimetype": "text/x-python",
   "name": "python",
   "nbconvert_exporter": "python",
   "pygments_lexer": "ipython3",
   "version": "3.8.2-final"
  }
 },
 "nbformat": 4,
 "nbformat_minor": 2
}