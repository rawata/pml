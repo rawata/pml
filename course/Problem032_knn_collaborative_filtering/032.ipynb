{
  "nbformat": 4,
  "nbformat_minor": 0,
  "metadata": {
    "kernelspec": {
      "display_name": "Python 3",
      "language": "python",
      "name": "python3"
    },
    "language_info": {
      "codemirror_mode": {
        "name": "ipython",
        "version": 3
      },
      "file_extension": ".py",
      "mimetype": "text/x-python",
      "name": "python",
      "nbconvert_exporter": "python",
      "pygments_lexer": "ipython3",
      "version": "3.6.8"
    },
    "colab": {
      "name": "032.ipynb",
      "provenance": []
    }
  },
  "cells": [
    {
      "cell_type": "markdown",
      "metadata": {
        "id": "8JptQO420ugZ"
      },
      "source": [
        "# Recommender Systems\n",
        "\n",
        "\n",
        "recommmendation system: presents items to users in a relevant way\n",
        "\n",
        "user: party that is receiving Recommendations\n",
        "item: the passive party that is being recommended to users  \n",
        "\n",
        "Content based vs collaborative filtering\n",
        "In practice most will be hybrid.\n",
        "\n",
        "\n",
        "## Recommendations at Expedia Group\n",
        "\n",
        "### EPS\n",
        "\n",
        "https://confluence.expedia.biz/pages/viewpage.action?pageId=890552932\n",
        "\n",
        "https://www.dropbox.com/s/cf77o15jlahabay/wid-eps-recommendations.pdf\n",
        "\n",
        "### BEX?\n",
        "\n",
        "### Hcom?\n"
      ]
    },
    {
      "cell_type": "markdown",
      "metadata": {
        "id": "p9rUr94G1YPQ"
      },
      "source": [
        "## Collaborative Filtering\n",
        "\n",
        "* Memory Based - KNearest Neighbours\n",
        "* Model Based - SVD\n",
        "* and others\n",
        "\n"
      ]
    },
    {
      "cell_type": "markdown",
      "metadata": {
        "id": "erBRh2L22J7E"
      },
      "source": [
        "## K Nearest Neighbours"
      ]
    },
    {
      "cell_type": "code",
      "metadata": {
        "id": "H6Drt1tW0ugf"
      },
      "source": [
        "import pandas as pd\n",
        "\n",
        "def display_matrix(data):\n",
        "  df = pd.DataFrame(data) \n",
        "  df.rename(columns=lambda x: \"item\" + str(x), inplace=True)\n",
        "  df.rename(index = lambda x: \"user\" + str(x), inplace=True)\n",
        "  return df\n"
      ],
      "execution_count": 25,
      "outputs": []
    },
    {
      "cell_type": "code",
      "metadata": {
        "colab": {
          "base_uri": "https://localhost:8080/",
          "height": 269
        },
        "id": "vnbFZ4w52WIa",
        "outputId": "cb34a176-9123-4036-d6f0-bdcae8dc9247"
      },
      "source": [
        "from scipy import spatial\n",
        "import matplotlib.pyplot as plt\n",
        "import itertools\n",
        "from sklearn.neighbors import NearestNeighbors\n",
        "import math\n",
        "\n",
        "\n",
        "def points(xs):\n",
        "    return [[x[0] for x in xs],[x[1] for x in xs]]\n",
        "\n",
        "def plot(xs):\n",
        "    ps = points(xs)\n",
        "    plt.plot(ps[0],ps[1], 'ro')\n",
        "    mx = max([max(ps[0]), max(ps[1])])\n",
        "    mn = min([min(ps[0]), min(ps[1]), 0])\n",
        "    gap = math.ceil((mx - mn) / 10)\n",
        "    plt.axis([mn, mx + gap, mn, mx + gap])\n",
        "\n",
        "\n",
        "# https://realpython.com/build-recommendation-engine-collaborative-filtering/\n",
        "# conceptually we can say that these are users with explicit ratings for movies x and y\n",
        "# or we could say that they're\n",
        "pts = [\n",
        "    [4, 1],\n",
        "    [3.5, 0.5],\n",
        "    [0.5, 4],\n",
        "    [1.5, 5]\n",
        "]\n",
        "\n",
        "plot(pts)"
      ],
      "execution_count": 26,
      "outputs": [
        {
          "output_type": "display_data",
          "data": {
            "image/png": "[encoded data removed]",
            "text/plain": [
              "<Figure size 432x288 with 1 Axes>"
            ]
          },
          "metadata": {
            "tags": [],
            "needs_background": "light"
          }
        }
      ]
    },
    {
      "cell_type": "code",
      "metadata": {
        "colab": {
          "base_uri": "https://localhost:8080/",
          "height": 175
        },
        "id": "5CHKtKgz7VI8",
        "outputId": "20091c22-531d-430c-e7a2-660a74df2666"
      },
      "source": [
        "display_matrix(pts)"
      ],
      "execution_count": 27,
      "outputs": [
        {
          "output_type": "execute_result",
          "data": {
            "text/html": [
              "<div>\n",
              "<style scoped>\n",
              "    .dataframe tbody tr th:only-of-type {\n",
              "        vertical-align: middle;\n",
              "    }\n",
              "\n",
              "    .dataframe tbody tr th {\n",
              "        vertical-align: top;\n",
              "    }\n",
              "\n",
              "    .dataframe thead th {\n",
              "        text-align: right;\n",
              "    }\n",
              "</style>\n",
              "<table border=\"1\" class=\"dataframe\">\n",
              "  <thead>\n",
              "    <tr style=\"text-align: right;\">\n",
              "      <th></th>\n",
              "      <th>item0</th>\n",
              "      <th>item1</th>\n",
              "    </tr>\n",
              "  </thead>\n",
              "  <tbody>\n",
              "    <tr>\n",
              "      <th>user0</th>\n",
              "      <td>4.0</td>\n",
              "      <td>1.0</td>\n",
              "    </tr>\n",
              "    <tr>\n",
              "      <th>user1</th>\n",
              "      <td>3.5</td>\n",
              "      <td>0.5</td>\n",
              "    </tr>\n",
              "    <tr>\n",
              "      <th>user2</th>\n",
              "      <td>0.5</td>\n",
              "      <td>4.0</td>\n",
              "    </tr>\n",
              "    <tr>\n",
              "      <th>user3</th>\n",
              "      <td>1.5</td>\n",
              "      <td>5.0</td>\n",
              "    </tr>\n",
              "  </tbody>\n",
              "</table>\n",
              "</div>"
            ],
            "text/plain": [
              "       item0  item1\n",
              "user0    4.0    1.0\n",
              "user1    3.5    0.5\n",
              "user2    0.5    4.0\n",
              "user3    1.5    5.0"
            ]
          },
          "metadata": {
            "tags": []
          },
          "execution_count": 27
        }
      ]
    },
    {
      "cell_type": "code",
      "metadata": {
        "id": "HDpISfFN7vzc"
      },
      "source": [
        "#User-based collaborative filtering:\n",
        "#Find the users who have similar taste of products as the current user , similarity is based on purchasing behavior of the user, so based on the neighbor purchasing behavior we can recommend items to the current user.\n",
        "\n",
        "# Let's build up intuitions\n",
        "# Lets add a new user who gave movie x a certain rating but hasn't given one for movie y; what rating will she give to movie y?\n",
        "# Let's say that her rating will be the average of the ratings given by the nearest 2 users for movie y\n",
        "# TBD\n",
        "def predicted_rating(x, pts):\n",
        "    nearest_users = None\n",
        "    return 0.0\n",
        "\n",
        "\n",
        "# problems with this?"
      ],
      "execution_count": 28,
      "outputs": []
    },
    {
      "cell_type": "code",
      "metadata": {
        "colab": {
          "base_uri": "https://localhost:8080/"
        },
        "id": "5skLWSs3DcE8",
        "outputId": "94f925c4-1a37-4c79-dd6d-a4dda3d8c89e"
      },
      "source": [
        "# now let's see if we can try using sklearn's nearest neighbour's library\n",
        "neigh = NearestNeighbors(n_neighbors=2, metric='euclidean')\n",
        "neigh.fit(pts)\n",
        "\n",
        "print(neigh.kneighbors([[4,1]]))\n",
        "\n",
        "print(neigh.kneighbors([[4,1.1]]))\n",
        "\n",
        "print(neigh.kneighbors([[5,2]]))\n",
        "\n",
        "print(neigh.kneighbors([[0,0.25]]))\n",
        "\n",
        "# what's wrong with the result here?"
      ],
      "execution_count": 29,
      "outputs": [
        {
          "output_type": "stream",
          "text": [
            "(array([[0.        , 0.70710678]]), array([[0, 1]]))\n",
            "(array([[0.1       , 0.78102497]]), array([[0, 1]]))\n",
            "(array([[1.41421356, 2.12132034]]), array([[0, 1]]))\n",
            "(array([[3.50891721, 3.78318649]]), array([[1, 2]]))\n"
          ],
          "name": "stdout"
        }
      ]
    },
    {
      "cell_type": "code",
      "metadata": {
        "colab": {
          "base_uri": "https://localhost:8080/"
        },
        "id": "zPmAdNSHD53I",
        "outputId": "2bb12be7-443c-4851-cb2a-1494d94a9413"
      },
      "source": [
        "def normalise(x):\n",
        "    avg = (x[0] + x[1]) / 2\n",
        "    return [x[0] - avg, x[1] - avg]\n",
        "\n",
        "neigh = NearestNeighbors(n_neighbors=2)\n",
        "neigh.fit([normalise(pt) for pt in pts])\n",
        "neigh.kneighbors([[0.1,0]])\n"
      ],
      "execution_count": 30,
      "outputs": [
        {
          "output_type": "execute_result",
          "data": {
            "text/plain": [
              "(array([[2.05182845, 2.05182845]]), array([[0, 1]]))"
            ]
          },
          "metadata": {
            "tags": []
          },
          "execution_count": 30
        }
      ]
    },
    {
      "cell_type": "code",
      "metadata": {
        "colab": {
          "base_uri": "https://localhost:8080/",
          "height": 206
        },
        "id": "A7K-czAtEvp6",
        "outputId": "e11d2d20-7a4f-4e16-86d6-5bf053202712"
      },
      "source": [
        "# let's add some items and introduce some sparsity\n",
        "pts = [\n",
        "    [4, 1, None, None],\n",
        "    [3.5, 0.5, None, 2],\n",
        "    [None, None, 3, 4],\n",
        "    [0.5, 4, None, None],\n",
        "    [1.5, 5, None, None]\n",
        "]\n",
        "display_matrix(pts)"
      ],
      "execution_count": 31,
      "outputs": [
        {
          "output_type": "execute_result",
          "data": {
            "text/html": [
              "<div>\n",
              "<style scoped>\n",
              "    .dataframe tbody tr th:only-of-type {\n",
              "        vertical-align: middle;\n",
              "    }\n",
              "\n",
              "    .dataframe tbody tr th {\n",
              "        vertical-align: top;\n",
              "    }\n",
              "\n",
              "    .dataframe thead th {\n",
              "        text-align: right;\n",
              "    }\n",
              "</style>\n",
              "<table border=\"1\" class=\"dataframe\">\n",
              "  <thead>\n",
              "    <tr style=\"text-align: right;\">\n",
              "      <th></th>\n",
              "      <th>item0</th>\n",
              "      <th>item1</th>\n",
              "      <th>item2</th>\n",
              "      <th>item3</th>\n",
              "    </tr>\n",
              "  </thead>\n",
              "  <tbody>\n",
              "    <tr>\n",
              "      <th>user0</th>\n",
              "      <td>4.0</td>\n",
              "      <td>1.0</td>\n",
              "      <td>NaN</td>\n",
              "      <td>NaN</td>\n",
              "    </tr>\n",
              "    <tr>\n",
              "      <th>user1</th>\n",
              "      <td>3.5</td>\n",
              "      <td>0.5</td>\n",
              "      <td>NaN</td>\n",
              "      <td>2.0</td>\n",
              "    </tr>\n",
              "    <tr>\n",
              "      <th>user2</th>\n",
              "      <td>NaN</td>\n",
              "      <td>NaN</td>\n",
              "      <td>3.0</td>\n",
              "      <td>4.0</td>\n",
              "    </tr>\n",
              "    <tr>\n",
              "      <th>user3</th>\n",
              "      <td>0.5</td>\n",
              "      <td>4.0</td>\n",
              "      <td>NaN</td>\n",
              "      <td>NaN</td>\n",
              "    </tr>\n",
              "    <tr>\n",
              "      <th>user4</th>\n",
              "      <td>1.5</td>\n",
              "      <td>5.0</td>\n",
              "      <td>NaN</td>\n",
              "      <td>NaN</td>\n",
              "    </tr>\n",
              "  </tbody>\n",
              "</table>\n",
              "</div>"
            ],
            "text/plain": [
              "       item0  item1  item2  item3\n",
              "user0    4.0    1.0    NaN    NaN\n",
              "user1    3.5    0.5    NaN    2.0\n",
              "user2    NaN    NaN    3.0    4.0\n",
              "user3    0.5    4.0    NaN    NaN\n",
              "user4    1.5    5.0    NaN    NaN"
            ]
          },
          "metadata": {
            "tags": []
          },
          "execution_count": 31
        }
      ]
    },
    {
      "cell_type": "code",
      "metadata": {
        "id": "bJ-wPJdfFC7d"
      },
      "source": [
        "def normalise(xs):\n",
        "    nxs = list(filter(lambda x: x is not None, xs))\n",
        "    avg = sum(nxs) / len(nxs)\n",
        "    return [0.0 if x is None else x - avg for x in xs]\n",
        "\n"
      ],
      "execution_count": 33,
      "outputs": []
    },
    {
      "cell_type": "code",
      "metadata": {
        "id": "rB0RwCBq0ugs"
      },
      "source": [
        "# TDB: write a function to predict ratings for a new entry \n",
        "def predicted_rating(x, pts):\n",
        "  return 0.0"
      ],
      "execution_count": 35,
      "outputs": []
    }
  ]
}