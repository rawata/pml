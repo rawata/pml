{
 "cells": [
  {
   "cell_type": "markdown",
   "metadata": {},
   "source": [
    "## Gradient or Slope or Rate of Change or Derivative\n",
    "### $\\begin{align} y' \\text{ or } f'(x) \\text{ or }  \\frac{dy}{dx} \\text{ or } \\frac{d}{dx} f(x) \\end{align}$"
   ]
  },
  {
   "source": [
    "## Derivative from first principles\n",
    "\n",
    "**TBD: ** Compute derivative of following functions from first principles\n",
    "\n",
    "$\\begin{align}y = 5x\\end{align}$\n",
    "\n",
    "$\\begin{align}y = x^2\\end{align}$"
   ],
   "cell_type": "markdown",
   "metadata": {}
  },
  {
   "source": [
    "## Simple Derivative Problems\n",
    "** TBD**: Find derivatives for following functions\n",
    "\n",
    "$\\begin{align}y = \\sin(x)\\end{align}$\n",
    "\n",
    "$\\begin{align}y = x + 2\\end{align}$\n",
    "\n",
    "$\\begin{align}y = 5\\sin(x)\\end{align}$\n",
    "\n",
    "$\\begin{align}y = 3x \\end{align}$\n",
    "\n",
    "$\\begin{align}y = 5\\sin(x) + x^4 \\end{align}$\n",
    "\n",
    "$\\begin{align}y = 5x^4\\sin(x) \\end{align}$\n",
    "\n",
    "$\\begin{align}y = 2e^x\\log(x) \\end{align}$\n"
   ],
   "cell_type": "markdown",
   "metadata": {}
  },
  {
   "cell_type": "code",
   "execution_count": null,
   "metadata": {},
   "outputs": [],
   "source": []
  }
 ],
 "metadata": {
  "kernelspec": {
   "display_name": "Python 3",
   "language": "python",
   "name": "python3"
  },
  "language_info": {
   "codemirror_mode": {
    "name": "ipython",
    "version": 3
   },
   "file_extension": ".py",
   "mimetype": "text/x-python",
   "name": "python",
   "nbconvert_exporter": "python",
   "pygments_lexer": "ipython3",
   "version": "3.8.2-final"
  }
 },
 "nbformat": 4,
 "nbformat_minor": 2
}