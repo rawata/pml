{
  "nbformat": 4,
  "nbformat_minor": 0,
  "metadata": {
    "kernelspec": {
      "display_name": "Python 3",
      "language": "python",
      "name": "python3"
    },
    "language_info": {
      "codemirror_mode": {
        "name": "ipython",
        "version": 3
      },
      "file_extension": ".py",
      "mimetype": "text/x-python",
      "name": "python",
      "nbconvert_exporter": "python",
      "pygments_lexer": "ipython3",
      "version": "3.8.2-final"
    },
    "colab": {
      "name": "009.ipynb",
      "provenance": []
    }
  },
  "cells": [
    {
      "cell_type": "markdown",
      "metadata": {
        "id": "jbjvfrGgOEt9"
      },
      "source": [
        "## What does linear model do\n"
      ]
    },
    {
      "cell_type": "markdown",
      "metadata": {
        "id": "1-0V54gtOEuB"
      },
      "source": [
        "## 1-dimensional input (feature)"
      ]
    },
    {
      "cell_type": "code",
      "metadata": {
        "scrolled": true,
        "id": "5f1YGDlzOEuE"
      },
      "source": [
        "import numpy as np\n",
        "from sklearn import linear_model\n",
        "X_train = np.array([[1],[2],[3],[4]])\n",
        "Y_train = np.array([1,2,3,4])\n",
        "\n",
        "#TBD fit linear model and predict for x=7\n"
      ],
      "execution_count": 5,
      "outputs": []
    },
    {
      "cell_type": "code",
      "metadata": {
        "id": "lo0J-zXaOEuV"
      },
      "source": [
        "X_train = np.array([[1],[2],[3],[4]])\n",
        "Y_train = np.array([3,4,5,6])\n",
        "\n",
        "#TBD fit linear model and predict for x=7"
      ],
      "execution_count": null,
      "outputs": []
    },
    {
      "cell_type": "code",
      "metadata": {
        "id": "Xz3ZTdR7OEuc",
        "outputId": "19f604f9-8728-461b-b833-815f5d9c3d7f",
        "colab": {
          "base_uri": "https://localhost:8080/"
        }
      },
      "source": [
        "X_train = np.array([[0],[0.1],[2],[2.1],[4],[4.1]])\n",
        "Y_train = np.array([0,2,1,3,2,4])\n",
        "\n",
        "#TBD fit linear model and predict for x=4\n",
        "reg = linear_model.LinearRegression().fit(X_train, Y_train)\n",
        "reg.predict(np.array([[4]]))"
      ],
      "execution_count": 11,
      "outputs": [
        {
          "output_type": "execute_result",
          "data": {
            "text/plain": [
              "array([3.01061505])"
            ]
          },
          "metadata": {
            "tags": []
          },
          "execution_count": 11
        }
      ]
    },
    {
      "cell_type": "code",
      "metadata": {
        "id": "N04ZwbaWOEuk"
      },
      "source": [
        "#TBD Plot above 3 models\n",
        "import matplotlib.pyplot as plt\n",
        "plt.scatter(X_diabetes_X_test, diabetes_y_test,  color='black')\n",
        "plt.plot(diabetes_X_test, diabetes_y_pred, color='blue', linewidth=3)\n",
        "\n",
        "plt.xticks(())\n",
        "plt.yticks(())\n",
        "\n",
        "plt.show()\n"
      ],
      "execution_count": 27,
      "outputs": []
    },
    {
      "cell_type": "markdown",
      "metadata": {
        "id": "IAc6HdwhOEut"
      },
      "source": [
        "## 2 dimensional input (features)"
      ]
    },
    {
      "cell_type": "code",
      "metadata": {
        "id": "XjOeDXoiOEuv"
      },
      "source": [
        "from random import random, seed\n",
        "\n",
        "n = 50\n",
        "seed(1)                                     \n",
        "X_train = [[random(), random()] for i in range(n)]              \n",
        "Y_train = [random() for i in range(n)]\n",
        "\n",
        "#TBD fit linear model and predict for x=(7,8)"
      ],
      "execution_count": null,
      "outputs": []
    },
    {
      "cell_type": "code",
      "metadata": {
        "id": "ihfs8cYOOEu3"
      },
      "source": [
        "#Plot above model\n"
      ],
      "execution_count": null,
      "outputs": []
    },
    {
      "cell_type": "markdown",
      "metadata": {
        "id": "a-aCUHidOEu9"
      },
      "source": [
        "## 13 dimensional input (features)"
      ]
    },
    {
      "cell_type": "code",
      "metadata": {
        "id": "zz7qHJAhOEu-"
      },
      "source": [
        "#TBD Load boston dataset\n",
        "from sklearn.datasets import load_boston\n",
        "X, Y = load_boston(return_X_y=True)"
      ],
      "execution_count": 15,
      "outputs": []
    },
    {
      "cell_type": "code",
      "metadata": {
        "id": "DndPbHJJOEvD"
      },
      "source": [
        "#TBD Split into Train and Test dataset. random 90% 10%\n",
        "from sklearn.model_selection import train_test_split\n",
        "X_train, X_test, y_train, y_test = train_test_split(X, Y)"
      ],
      "execution_count": 18,
      "outputs": []
    },
    {
      "cell_type": "code",
      "metadata": {
        "id": "VRg5q8Y0OEvI"
      },
      "source": [
        "#TBD Fit linear model on Training data\n",
        "\n",
        "reg = linear_model.LinearRegression().fit(X_train, y_train)\n"
      ],
      "execution_count": 20,
      "outputs": []
    },
    {
      "cell_type": "code",
      "metadata": {
        "id": "wZv25sakOEvP"
      },
      "source": [
        "#TBD Predict for Test data\n",
        "y_hat = reg.predict(X_test)"
      ],
      "execution_count": 24,
      "outputs": []
    },
    {
      "cell_type": "code",
      "metadata": {
        "id": "_cyh6pyJOEvU",
        "outputId": "b78d4aae-8193-468e-f0a5-1a2405c7ce95",
        "colab": {
          "base_uri": "https://localhost:8080/"
        }
      },
      "source": [
        "#TBD Mean squared error for your predictions\n",
        "from sklearn.metrics import mean_absolute_error, mean_squared_error\n",
        "\n",
        "mean_squared_error(y_test,y_hat)"
      ],
      "execution_count": 25,
      "outputs": [
        {
          "output_type": "execute_result",
          "data": {
            "text/plain": [
              "26.87119408116287"
            ]
          },
          "metadata": {
            "tags": []
          },
          "execution_count": 25
        }
      ]
    },
    {
      "cell_type": "markdown",
      "metadata": {
        "id": "IEgYG8mhOEva"
      },
      "source": [
        "## Problems with linear model\n",
        "![title](https://github.com/wrwills/pml/blob/master/img/anscombe_quartet.png?raw=1)\n",
        "\n",
        "### Ansombe Quartet \n",
        "### y = x/2 + 3"
      ]
    }
  ]
}