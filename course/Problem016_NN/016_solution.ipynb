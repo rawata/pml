{
 "cells": [
  {
   "source": [
    "## Neural Network\n",
    "\n",
    "<img src=\"../../img/nn016.png\" width=\"900\">\n",
    "\n",
    "## TBD: For the given neural network above: \n",
    "* How many layers are there in total?\n",
    "* How many hidden layers?\n",
    "* How many weights are there in first hidden layer?\n",
    "* How many weights are there in total?\n",
    "* How many activations are produced from first hidden layer for single input sample?\n"
   ],
   "cell_type": "markdown",
   "metadata": {}
  },
  {
   "cell_type": "code",
   "execution_count": null,
   "metadata": {},
   "outputs": [],
   "source": [
    "#Solution\n",
    "# Number of layers = 4\n",
    "# Hidden layers = 2, L1 and L2\n",
    "# First hidden layer: 6 weights in total, 3 Neurons, 2 weights per neuron\n",
    "# Total number of weights = 6 (L1) + 6 (L2) + 2 (L3) => 14\n",
    "# Number of Activations from first input layer = 3 (1 per neuron)"
   ]
  }
 ],
 "metadata": {
  "kernelspec": {
   "display_name": "Python 3",
   "language": "python",
   "name": "python3"
  },
  "language_info": {
   "codemirror_mode": {
    "name": "ipython",
    "version": 3
   },
   "file_extension": ".py",
   "mimetype": "text/x-python",
   "name": "python",
   "nbconvert_exporter": "python",
   "pygments_lexer": "ipython3",
   "version": "3.8.2-final"
  }
 },
 "nbformat": 4,
 "nbformat_minor": 2
}