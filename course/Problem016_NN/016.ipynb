{
 "cells": [
  {
   "source": [
    "## Neural Network\n",
    "\n",
    "<img src=\"../../img/nn016.png\" width=\"900\">\n",
    "\n",
    "## TBD: For the given neural network above: \n",
    "* How many layers are there in total?\n",
    "* How many hidden layers?\n",
    "* How many weights are there in first hidden layer?\n",
    "* How many weights are there in total?\n",
    "* How many activations are produced from first hidden layer for single input sample?\n"
   ],
   "cell_type": "markdown",
   "metadata": {}
  }
 ],
 "metadata": {
  "kernelspec": {
   "display_name": "Python 3",
   "language": "python",
   "name": "python3"
  },
  "language_info": {
   "codemirror_mode": {
    "name": "ipython",
    "version": 3
   },
   "file_extension": ".py",
   "mimetype": "text/x-python",
   "name": "python",
   "nbconvert_exporter": "python",
   "pygments_lexer": "ipython3",
   "version": "3.8.2-final"
  }
 },
 "nbformat": 4,
 "nbformat_minor": 2
}